{
 "cells": [
  {
   "cell_type": "code",
   "execution_count": null,
   "metadata": {},
   "outputs": [],
   "source": [
    "import matplotlib.pyplot as plt\n",
    "import nibabel as nib\n",
    "import numpy as np\n",
    "from PIL import Image\n",
    "import torch\n",
    "from torch.utils.data import Dataset, DataLoader\n",
    "from torchvision import utils, transforms\n",
    "from glob import glob\n",
    "import os"
   ]
  },
  {
   "cell_type": "code",
   "execution_count": null,
   "metadata": {},
   "outputs": [],
   "source": [
    "class NiftiDataset(Dataset):\n",
    "    def __init__(self, source_dir, transform=None):\n",
    "        \"\"\"\n",
    "        create a dataset class in PyTorch for reading nifti (.nii.gz) files\n",
    "        source_dir: path to images\n",
    "        transform: transform to apply to images (Probably None or ToTensor)\n",
    "        \"\"\"\n",
    "        self.source_fns = sorted(glob(os.path.join(source_dir, \"*.nii.gz\")))\n",
    "        self.transform = transform\n",
    "\n",
    "    def __len__(self):\n",
    "        return len(self.source_fns)\n",
    "\n",
    "    def __getitem__(self, idx:int):\n",
    "        src_fn = self.source_fns[idx]\n",
    "        img_tmp = nib.load(src_fn)\n",
    "        sample = img_tmp.get_fdata(dtype=np.float64)\n",
    "        if self.transform is not None:\n",
    "            sample = self.transform(sample)\n",
    "        return sample\n"
   ]
  },
  {
   "cell_type": "code",
   "execution_count": null,
   "metadata": {},
   "outputs": [],
   "source": [
    "good_data = NiftiDataset(source_dir='/media/data/Track_2/good',\n",
    "                         transform=transforms.Compose([\n",
    "                             transforms.ToTensor(),\n",
    "#                              transforms.Normalize(mean=[0.5]*218, std=[0.1]*218)\n",
    "                         ])\n",
    "                        )\n",
    "bad_data = NiftiDataset(source_dir='/media/data/Track_2/bad',\n",
    "                       transform=transforms.ToTensor())\n",
    "\n",
    "pure_data = NiftiDataset(source_dir='/media/data/Track_2/mni',\n",
    "                        transform=transforms.ToTensor())\n",
    "\n",
    "batch_size = 1\n",
    "good_dataloader = DataLoader(good_data, batch_size=batch_size,\n",
    "                             shuffle=True, num_workers=batch_size)\n",
    "bad_dataloader = DataLoader(bad_data, batch_size=batch_size,\n",
    "                            shuffle=True, num_workers=batch_size)\n",
    "pure_dataloader = DataLoader(pure_data, batch_size=batch_size, shuffle=True, num_workers=batch_size)"
   ]
  },
  {
   "cell_type": "code",
   "execution_count": null,
   "metadata": {
    "scrolled": false
   },
   "outputs": [],
   "source": [
    "def normalize_brain(brainy_batch):\n",
    "    mean_val = images_batch.mean(dim=[1,2,3])\n",
    "    std_val = images_batch.std(dim=[1,2,3])\n",
    "    images_batch = (images_batch-mean_val[:, None, None, None])/std_val[:, None, None, None]\n",
    "\n",
    "def show_brains(images_batch):\n",
    "    images_batch = normalize_brain(images_batch)\n",
    "\n",
    "    images_batch = (images_batch-images_batch.min())/(images_batch.max()-images_batch.min())\n",
    "    images_batch = images_batch[:, 50, :, :]\n",
    "    images_batch = images_batch.unsqueeze(1)\n",
    "    grid = utils.make_grid(images_batch)\n",
    "    \n",
    "    plt.imshow(grid.numpy().transpose((1, 2, 0)))\n",
    "\n",
    "for good_batch, bad_batch, pure_dataloader in zip(good_dataloader, bad_dataloader, pure_dataloader):\n",
    "    print(good_batch[0].size())\n",
    "    good_batch = good_batch[0]\n",
    "    bad_batch = bad_batch[0]\n",
    "    pure_batch = pure_batch[0]\n",
    "    print(good_batch.size())\n",
    "    print(pure_batch.size())\n",
    "    plt.figure()\n",
    "    print(\"Good Brain\")\n",
    "    show_brains(good_batch)\n",
    "    plt.axis('off')\n",
    "    plt.ioff()\n",
    "    plt.show()\n",
    "    plt.figure()\n",
    "    print(\"Bad Brain\")\n",
    "    show_brains(bad_batch)\n",
    "    plt.axis('off')\n",
    "    plt.ioff()\n",
    "    plt.show()"
   ]
  },
  {
   "cell_type": "code",
   "execution_count": null,
   "metadata": {},
   "outputs": [],
   "source": []
  }
 ],
 "metadata": {
  "kernelspec": {
   "display_name": "Python 3",
   "language": "python",
   "name": "python3"
  },
  "language_info": {
   "codemirror_mode": {
    "name": "ipython",
    "version": 3
   },
   "file_extension": ".py",
   "mimetype": "text/x-python",
   "name": "python",
   "nbconvert_exporter": "python",
   "pygments_lexer": "ipython3",
   "version": "3.6.8"
  }
 },
 "nbformat": 4,
 "nbformat_minor": 2
}
