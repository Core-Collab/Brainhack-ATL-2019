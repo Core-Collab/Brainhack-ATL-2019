{
 "cells": [
  {
   "cell_type": "code",
   "execution_count": 29,
   "metadata": {},
   "outputs": [],
   "source": [
    "from sklearn.cluster import KMeans\n",
    "from sklearn.decomposition import PCA\n",
    "from sklearn.tree import DecisionTreeClassifier\n",
    "from sklearn.ensemble import RandomForestClassifier, AdaBoostClassifier, GradientBoostingClassifier\n",
    "from sklearn.pipeline import make_pipeline\n",
    "from sklearn.model_selection import train_test_split\n",
    "from sklearn.metrics import confusion_matrix\n",
    "from sklearn.metrics import accuracy_score\n",
    "from sklearn.neighbors import KNeighborsClassifier\n",
    "from sklearn.preprocessing import StandardScaler\n",
    "import pickle\n",
    "import matplotlib.pyplot as plt\n",
    "import numpy as np\n",
    "import os\n",
    "os.environ['KMP_DUPLICATE_LIB_OK']='True'\n",
    "samples = 3619\n",
    "num_features = 4096 # dimension of latent vector\n",
    "train_percent = 0.8 # used when splitting data into train and test sets\n",
    "\n",
    "def get_model(model_name = 'random_forest'):\n",
    "    if model_name == 'random_forest':\n",
    "        return RandomForestClassifier(n_estimators=100, random_state=0)\n",
    "    elif model_name == 'ada_boost':\n",
    "        return AdaBoostClassifier(n_estimators=100)\n",
    "    elif model_name == 'gradient_boost':\n",
    "        return GradientBoostingClassifier(n_estimators=100)\n",
    "    elif model_name == 'kmeans':\n",
    "        return KMeans(n_clusters=2)\n",
    "    elif model_name == 'knearest':\n",
    "        return KNeighborsClassifier(n_neighbors=3)\n",
    "    \n",
    "    \n",
    "def feature_classifier(data_filename = './data.csv', labels_filename = './labels.csv', train_percent = 0.8, model_name = 'random_forest', model_filename = './my_model.clf', do_pca = 1, components = 2):\n",
    "    # Read in data and labels\n",
    "    my_features = np.genfromtxt(data_filename, delimiter=',')\n",
    "    my_labels = np.genfromtxt(labels_filename, delimiter=',')\n",
    "    my_features = np.nan_to_num(my_features)\n",
    "#     scaler = pickle.load(open('siamese_scaler.pkl', 'rb'))\n",
    "#     my_features = scaler.transform(my_features)\n",
    "#     scaler.fit(my_features)\n",
    "    # Get model\n",
    "    model = get_model(model_name)\n",
    "    Xtrain, Xtest, ytrain, ytest = train_test_split(my_features, my_labels, train_size=train_percent)\n",
    "    if do_pca == 1:\n",
    "        pca = PCA(components)\n",
    "        model = make_pipeline(pca, model)\n",
    "    model.fit(Xtrain, ytrain)\n",
    "    # Save model\n",
    "#     pickle.dump(scaler, open('siamese_scaler.pkl', 'wb'))\n",
    "    pickle.dump(model, open(model_filename, 'wb'))\n",
    "    # Load model\n",
    "    model = pickle.load(open(model_filename, 'rb'))\n",
    "    y = model.predict(Xtest)\n",
    "    print('Accuracy = ', accuracy_score(ytest, y))\n",
    "    print('Confusion matrix: ', confusion_matrix(ytest, y))\n",
    "    \n",
    "def clf_predict(data_filename = './data.csv', model_filename = './my_model.clf'):\n",
    "    # Returns an array of predicted labels\n",
    "    # Read in data\n",
    "    X = np.genfromtxt(data_filename, delimiter=',')\n",
    "    # Load model\n",
    "    model = pickle.load(open(model_filename, 'rb'))\n",
    "    return model.predict(X)"
   ]
  },
  {
   "cell_type": "code",
   "execution_count": 30,
   "metadata": {},
   "outputs": [
    {
     "name": "stdout",
     "output_type": "stream",
     "text": [
      "Accuracy =  0.7720994475138122\n",
      "Confusion matrix:  [[133 108]\n",
      " [ 57 426]]\n"
     ]
    }
   ],
   "source": [
    "def clf_predict_matrix(data_in, model_fn):\n",
    "    model = pickle.load(open(model_filename, 'rb'))\n",
    "    return model.predict(data_in)"
   ]
  },
  {
   "cell_type": "code",
   "execution_count": null,
   "metadata": {},
   "outputs": [],
   "source": []
  }
 ],
 "metadata": {
  "kernelspec": {
   "display_name": "Python 3",
   "language": "python",
   "name": "python3"
  },
  "language_info": {
   "codemirror_mode": {
    "name": "ipython",
    "version": 3
   },
   "file_extension": ".py",
   "mimetype": "text/x-python",
   "name": "python",
   "nbconvert_exporter": "python",
   "pygments_lexer": "ipython3",
   "version": "3.6.9"
  }
 },
 "nbformat": 4,
 "nbformat_minor": 2
}
